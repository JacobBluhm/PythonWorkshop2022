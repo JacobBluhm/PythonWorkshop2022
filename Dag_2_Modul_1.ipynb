{
  "nbformat": 4,
  "nbformat_minor": 0,
  "metadata": {
    "colab": {
      "name": "Dag 2 Modul 1.ipynb",
      "provenance": [],
      "collapsed_sections": [],
      "toc_visible": true,
      "include_colab_link": true
    },
    "kernelspec": {
      "name": "python3",
      "display_name": "Python 3"
    }
  },
  "cells": [
    {
      "cell_type": "markdown",
      "metadata": {
        "id": "view-in-github",
        "colab_type": "text"
      },
      "source": [
        "<a href=\"https://colab.research.google.com/github/Moggel12/PythonWorkshop2021/blob/gh-pages/Dag_2_Modul_1.ipynb\" target=\"_parent\"><img src=\"https://colab.research.google.com/assets/colab-badge.svg\" alt=\"Open In Colab\"/></a>"
      ]
    },
    {
      "cell_type": "markdown",
      "metadata": {
        "id": "WwMPuOeJInep"
      },
      "source": [
        "# Præsentations eksempler\n"
      ]
    },
    {
      "cell_type": "markdown",
      "metadata": {
        "id": "vUNVrEGH_Szr"
      },
      "source": [
        "### Tælleprogrammer"
      ]
    },
    {
      "cell_type": "code",
      "metadata": {
        "id": "4P_Cf0X3Lcsg"
      },
      "source": [
        "# Uden løkker\n",
        "print(1)\n",
        "print(2)\n",
        "print(3)\n",
        "print(4)\n",
        "print(5)"
      ],
      "execution_count": null,
      "outputs": []
    },
    {
      "cell_type": "code",
      "metadata": {
        "id": "A52sP5S6_jBL"
      },
      "source": [
        "# med en for løkke\n",
        "for i in range(5):\n",
        "  print(i)"
      ],
      "execution_count": null,
      "outputs": []
    },
    {
      "cell_type": "code",
      "metadata": {
        "id": "mqPt4p93_zhg"
      },
      "source": [
        "# fra 1 til 6\n",
        "for i in range(1, 6):\n",
        "  print(i)"
      ],
      "execution_count": null,
      "outputs": []
    },
    {
      "cell_type": "code",
      "metadata": {
        "id": "NM9Xd1qH_0yF"
      },
      "source": [
        "# fra 1 til 7 med skridt 3\n",
        "for i in range(1, 10, 3):\n",
        "print(i)"
      ],
      "execution_count": null,
      "outputs": []
    },
    {
      "cell_type": "code",
      "metadata": {
        "id": "XHzsJrIQ_3s2"
      },
      "source": [
        "# fra 1 til 5 med en while løkke\n",
        "i = 1\n",
        "while (i < 6):\n",
        "  print(i)\n",
        "  i = i + 1"
      ],
      "execution_count": null,
      "outputs": []
    },
    {
      "cell_type": "code",
      "metadata": {
        "id": "kkbFRtjd_9-d"
      },
      "source": [
        "# uendelig løkke\n",
        "i = 1\n",
        "while (True):\n",
        "  print(i)\n",
        "  i = i + 1"
      ],
      "execution_count": null,
      "outputs": []
    },
    {
      "cell_type": "code",
      "metadata": {
        "id": "6A1e0-EdACb4"
      },
      "source": [
        "# fra 1 til 5 med en uendelig løkke\n",
        "\n",
        "i = 1\n",
        "while (True):\n",
        "  print(i)\n",
        "  i = i + 1\n",
        "  if (i > 5):\n",
        "    break"
      ],
      "execution_count": null,
      "outputs": []
    },
    {
      "cell_type": "code",
      "metadata": {
        "id": "0-2od48RAWXP"
      },
      "source": [
        "# spring 2 over\n",
        "i = 1\n",
        "while(True):\n",
        "  if (i == 2):\n",
        "    i = i + 1\n",
        "    continue\n",
        "  print(i)\n",
        "  i = i + 1"
      ],
      "execution_count": null,
      "outputs": []
    },
    {
      "cell_type": "code",
      "metadata": {
        "id": "D4zsMbTFA5tU"
      },
      "source": [
        "# løkker i løkker\n",
        "for i in range(5):\n",
        "  for j in range(2):\n",
        "    print(j)"
      ],
      "execution_count": null,
      "outputs": []
    },
    {
      "cell_type": "markdown",
      "metadata": {
        "id": "8s6O_BbcDKw2"
      },
      "source": [
        "### Lister"
      ]
    },
    {
      "cell_type": "code",
      "metadata": {
        "id": "PPVN2EjMSo2z"
      },
      "source": [
        "# opret en liste samt tilgå et element\n",
        "mylist = [4, 0, 3, 8]\n",
        "print(mylist[2])"
      ],
      "execution_count": null,
      "outputs": []
    },
    {
      "cell_type": "code",
      "metadata": {
        "id": "UifUU3-ACF6o"
      },
      "source": [
        "# slicing\n",
        "mylist= [4, 0, 3, 8]\n",
        "print(mylist [1:3])"
      ],
      "execution_count": null,
      "outputs": []
    },
    {
      "cell_type": "code",
      "metadata": {
        "id": "7cM5Pcs3CKMu"
      },
      "source": [
        "# gennemløb af liste\n",
        "mylist = [1, 2, 3, 4]\n",
        "for elm in mylist:\n",
        "  print(elm)"
      ],
      "execution_count": null,
      "outputs": []
    },
    {
      "cell_type": "code",
      "metadata": {
        "id": "pVsxsr5aCQli"
      },
      "source": [
        "# ændring af lister\n",
        "mylist = [1, 2, 4]\n",
        "print(mylist)\n",
        "mylist [0] = 8\n",
        "print(mylist)"
      ],
      "execution_count": null,
      "outputs": []
    },
    {
      "cell_type": "code",
      "metadata": {
        "id": "DsI6OSWyCYoQ"
      },
      "source": [
        "# tilføj til liste\n",
        "mylist = [1, 2, 4]\n",
        "print(mylist)\n",
        "mylist.append(5)\n",
        "print(mylist)"
      ],
      "execution_count": null,
      "outputs": []
    },
    {
      "cell_type": "code",
      "metadata": {
        "id": "vmJwZSHCCbFO"
      },
      "source": [
        "# fjern fra liste\n",
        "mylist = [1, 2, 4]\n",
        "print(mylist)\n",
        "del(mylist [0])\n",
        "print(mylist)"
      ],
      "execution_count": null,
      "outputs": []
    },
    {
      "cell_type": "code",
      "metadata": {
        "id": "FLc4XY7tCdKU"
      },
      "source": [
        "# længde af liste\n",
        "mylist = [1, 2, 4]\n",
        "x = len(mylist)\n",
        "print(x)"
      ],
      "execution_count": null,
      "outputs": []
    },
    {
      "cell_type": "code",
      "metadata": {
        "id": "ZimzasmKCfyh"
      },
      "source": [
        "# sæt lister sammen\n",
        "mylist1 = [1, 2]\n",
        "mylist2 = [3, 4]\n",
        "mylist3 = mylist1 + mylist2\n",
        "print(mylist3)"
      ],
      "execution_count": null,
      "outputs": []
    },
    {
      "cell_type": "code",
      "metadata": {
        "id": "Ls8ju1cFCiqp"
      },
      "source": [
        "# gentag en liste\n",
        "mylist1 = [1, 2]\n",
        "mylist2 = mylist1 ∗ 3\n",
        "print(mylist2)"
      ],
      "execution_count": null,
      "outputs": []
    },
    {
      "cell_type": "code",
      "metadata": {
        "id": "9v9LB4VaCkuZ"
      },
      "source": [
        "# tjek om et element er i listen\n",
        "mylist = [1, 2, 3, 4, 5]\n",
        "print(2 in mylist)\n",
        "print(7 in mylist)"
      ],
      "execution_count": null,
      "outputs": []
    },
    {
      "cell_type": "markdown",
      "metadata": {
        "id": "Fn7SThvVDO39"
      },
      "source": [
        "### Lidt af det hele"
      ]
    },
    {
      "cell_type": "code",
      "metadata": {
        "id": "rHpbdIqiCpep"
      },
      "source": [
        "# yndlingstal\n",
        "yndlings = []\n",
        "for i in range(3):\n",
        "  x = int(input(\"Indtast et af dine yndlingstal \\n\"))\n",
        "  yndlings .append(x)\n",
        "if (7 in yndlings):\n",
        "  print(\"7 er nice\")\n",
        "else:\n",
        "  print(\"Du har ikke mit yndlingstal i din top 3 :(\")"
      ],
      "execution_count": null,
      "outputs": []
    },
    {
      "cell_type": "code",
      "metadata": {
        "id": "CNmpftYbC7jq"
      },
      "source": [
        "# indeks og elementer\n",
        "mylist = [4, 0, 3, 8]\n",
        "for i in range(len(mylist)):\n",
        "  print(\"På plads \" + str(i) + \" er der \" + str(mylist[i ]))"
      ],
      "execution_count": null,
      "outputs": []
    },
    {
      "cell_type": "markdown",
      "metadata": {
        "id": "v8Bo25NShtTt"
      },
      "source": [
        "# Øvelser\n",
        "Her er nogle øvelser til at gøre dig mere fortrolig med løkker og lister. Husk som altid at være nysgerrig og prøve alt af, som falder dig ind."
      ]
    },
    {
      "cell_type": "markdown",
      "metadata": {
        "id": "2Ea8uXNyEl2t"
      },
      "source": [
        "## Optimer tidligere programmer\n",
        "* Lav et program som udregner fibonachi tallene vha. en funktion.\n",
        "* Lav et program som udregner fibonachi tallene vha. en løkke.\n",
        "* Hvilket af ovenstående programmer virker bedst?\n",
        "* Opdater spillet \"guess the number\" så det bruger en løkke."
      ]
    },
    {
      "cell_type": "markdown",
      "metadata": {
        "id": "qFZIELFIiIs6"
      },
      "source": [
        "## Læs, forstå, test\n",
        "For hvert af følgende programmer\n",
        "* Læs, forstå og overvej hvad resultatet er.\n",
        "* Test programmet, svarer det til dine forventninger? Hvorfor/hvorfor ikke?\n",
        "* Prøv at ændre nogle dele i programmerne, og se om tingene stadig opfører sig som forventet."
      ]
    },
    {
      "cell_type": "code",
      "metadata": {
        "id": "v7ITs1lOi3_p"
      },
      "source": [
        "# Program 0\n",
        "repeat = 1\n",
        "s =  \"Na\"\n",
        "while(repeat <= 16):\n",
        "\tprint(s)\n",
        "\trepeat = repeat + 1\n",
        "print(\" Batman!\")"
      ],
      "execution_count": null,
      "outputs": []
    },
    {
      "cell_type": "code",
      "metadata": {
        "id": "hSvc5Wz9i8aK"
      },
      "source": [
        "# Program 1\n",
        "i = 0\t\t\t\t\t\n",
        "output = 2\n",
        "while (i <= 10):\n",
        "\toutput = output + 1\n",
        "\ti = i + 1\n",
        "print(output)"
      ],
      "execution_count": null,
      "outputs": []
    },
    {
      "cell_type": "code",
      "metadata": {
        "id": "2KXL4hf_jFOa"
      },
      "source": [
        "# Program 2\n",
        "i = 2\n",
        "output = 0\n",
        "for i in range(0, 8):\n",
        "\toutput = output + 1\n",
        "print(output)\n"
      ],
      "execution_count": null,
      "outputs": []
    },
    {
      "cell_type": "markdown",
      "metadata": {
        "id": "c-FITotKmuhO"
      },
      "source": [
        "## The final countdown\n",
        "Lav et program der \"tæller ned\" fra 10 og til sidst skriver \"BLAST OFF!\" (eller hvad du nu har lyst til.)\n"
      ]
    },
    {
      "cell_type": "code",
      "metadata": {
        "id": "P9lt7MutnL5F"
      },
      "source": [
        "# Nedtælling\n",
        "for i in range(10, -1, -1):\n",
        "    if i == 0:\n",
        "        print(\"BLAST OFF!\")\n",
        "    else:\n",
        "        print(i)"
      ],
      "execution_count": null,
      "outputs": []
    },
    {
      "cell_type": "markdown",
      "metadata": {
        "id": "rZXRnfJfshUZ"
      },
      "source": [
        "## Tilfældige tal\n",
        "Lav et program som udskriver 20 tilfældige tal mellem 12 og 124."
      ]
    },
    {
      "cell_type": "code",
      "metadata": {
        "id": "J5hotcOmsoBG"
      },
      "source": [
        "import random\n",
        "\n",
        "for _ in range(20):\n",
        "    print(x = random.randint(12,124))"
      ],
      "execution_count": null,
      "outputs": []
    },
    {
      "cell_type": "markdown",
      "metadata": {
        "id": "m_7ef2MVjREt"
      },
      "source": [
        "## Største tal\n",
        "Vi vil lave et program der kan finde det største tal i en liste.\n",
        "\n",
        "Vi starter med at definere listen:"
      ]
    },
    {
      "cell_type": "code",
      "metadata": {
        "id": "tfkhAxGRj-yx"
      },
      "source": [
        "mylist = [12, 1, 124, 23, 432, 323, 12, 345, 23, 134, 354, 321, 543, 312, 124, 454, 3, 43, 3]"
      ],
      "execution_count": null,
      "outputs": []
    },
    {
      "cell_type": "markdown",
      "metadata": {
        "id": "lMOMnM_ikExX"
      },
      "source": [
        "Vi vil finde det største tal på følgende måde:\n",
        "\n",
        "1.   Vi laver en variabel der starter med værdien af det første tal i listen. Vi kalder den `currentLarge`.\n",
        "2.   Vi laver en for-løkke, der går hele listen igennem.\n",
        "3.   For hvert element i listen, sammenligner vi det med variablen `currentLarge`.\n",
        "  1.   Hvis et element er større end `currentLarge`, opdaterer vi værdien i `currentLarge` til at være elementet.\n",
        "  2.   Ellers ændrer vi ikke noget, og går blot videre til næste element (dette sker automatisk)\n",
        "4.   Print værdien af `currentLarge` til sidst. (Hvis den printer 543 er det nok rigtigt.)\n",
        "  \n",
        "På denne måde vil `currentLarge` altid indeholde værdien af det største element vi har set indtil videre i listen."
      ]
    },
    {
      "cell_type": "code",
      "metadata": {
        "id": "3QAmtmxSlu_Y"
      },
      "source": [
        "# Lav variablen currentLarge\n",
        "\n",
        "# Lav et for-loop der går igennem elementerne i mylist og gør det der er beskrevet ovenfor\n",
        "\n",
        "# Print currentLarge til sidst\n",
        "mylist = [12, 1, 124, 23, 432, 323, 12, 345, 23, 134, 354, 321, 543, 312, 124, 454, 3, 43, 3]\n",
        "\n",
        "currentLarge = mylist[0]\n",
        "for elem in mylist:\n",
        "    if currentLarge < elem:\n",
        "        currentLarge = elem\n",
        "print(currentLarge)"
      ],
      "execution_count": null,
      "outputs": []
    },
    {
      "cell_type": "markdown",
      "metadata": {
        "id": "7YjF1ms5nbFu"
      },
      "source": [
        "## Summer som en bi\n",
        "Lav et program som lægger tallene i en liste sammen (finder summen). Ligesom i forrige opgave får du nok brug for en variabel som holder styr på den foreløbige sum."
      ]
    },
    {
      "cell_type": "code",
      "metadata": {
        "id": "oPSFfdOXoVRa"
      },
      "source": [
        "mylist = [21,7,4,10]\n",
        "\n",
        "def sum(lst):\n",
        "    total = 0\n",
        "    for element in mylist:\n",
        "        total = total + element\n",
        "    return total\n",
        "\n",
        "def avg(lst):\n",
        "    return sum(lst)/len(lst)"
      ],
      "execution_count": null,
      "outputs": []
    },
    {
      "cell_type": "markdown",
      "metadata": {
        "id": "B4oHIDStomsg"
      },
      "source": [
        "* Udvid programmet så det tager 5 tal som input fra brugeren.\n",
        "* Lav dit program til en funktion `sum(_)` som tager en liste som argument, og returnerer den endelige sum.\n",
        "* Lav en funktion `avg(_)` som på lignende vis finder gennemsnittet af en liste.\n"
      ]
    },
    {
      "cell_type": "markdown",
      "metadata": {
        "id": "gs6ciIeItEaa"
      },
      "source": [
        "## Password-generator\n",
        "Lav en liste af ord, og print et tilfældigt af dem. (Hint: brug `randint` funktionen til at vælge et indeks i listen)."
      ]
    },
    {
      "cell_type": "code",
      "metadata": {
        "id": "oLo7AUAMwJFM",
        "colab": {
          "base_uri": "https://localhost:8080/"
        },
        "outputId": "6e5d8390-020e-456c-e84b-24bb66f5ac34"
      },
      "source": [
        "import random\n",
        "\n",
        "wordList = ['hej', 'med', 'dig', 'her', 'er', 'et', 'par', 'ord']\n",
        "\n",
        "password = \"\"\n",
        "\n",
        "for i in range(10):\n",
        "    idx = random.randint(0,len(wordList)-1)\n",
        "    password = password + wordList[idx]\n",
        "\n",
        "print(password)"
      ],
      "execution_count": null,
      "outputs": [
        {
          "output_type": "stream",
          "text": [
            "digmederermedparordordhejer\n"
          ],
          "name": "stdout"
        }
      ]
    },
    {
      "cell_type": "markdown",
      "metadata": {
        "id": "sHjFHfShweIj"
      },
      "source": [
        "Udvid programmet til at sammensætte et par tilfældige ord, til en form for password.\n",
        "\n",
        "Du kan også tilføje tilfældige tal til passwordet, men husk at lave dem om til strenge med `str(_)` før du sætter dem sammen med ordene."
      ]
    },
    {
      "cell_type": "markdown",
      "metadata": {
        "id": "SXNzbUQUxzPz"
      },
      "source": [
        "##  Delelige tal\n",
        "Find alle tal mellem 123 og 234 som er delelige med 8, dvs. hvor resten er 0. Brug evt. modulo-operatoren `%` som returnerer resten af heltalsdivision mellem to tal."
      ]
    },
    {
      "cell_type": "code",
      "metadata": {
        "id": "y3hQCKB8yk3i"
      },
      "source": [
        "#print(4 % 2) # 4 delt med 2 giver 0 i rest\n",
        "#print(4 % 3) # 4 delt med 3 giver 1 i rest\n",
        "#print(10 % 4) # 10 delt med 4 giver 2 i rest\n",
        "\n",
        "for i in range(123, 235):\n",
        "    print(i)\n",
        "    if (i % 8) == 0:\n",
        "        print(i)"
      ],
      "execution_count": null,
      "outputs": []
    },
    {
      "cell_type": "markdown",
      "metadata": {
        "id": "BPxWD3stzXfA"
      },
      "source": [
        "## Er listen sorteret?\n",
        "Tag som input fra brugeren en liste af tal. Tjek om denne er sorteret og returner svaret. (Hint: lav en løkke over indekser, så du kan sammenligne tal på pladser ved siden af hinanden.)"
      ]
    },
    {
      "cell_type": "code",
      "metadata": {
        "id": "vWqU6B3d3tcU"
      },
      "source": [
        "# Tjek om en liste er sorteret\n",
        "\n",
        "def check_sorted(lst):\n",
        "    for i in range(1,len(lst)):\n",
        "        if (lst[i-1] > lst[i]):\n",
        "            print(\"Not sorted, error at \" + str(i))\n",
        "\n",
        "\n",
        "# virker for tal fra 0 til 9\n",
        "lst = list(input(\"Angiv en liste af tal: \"))\n",
        "check_sorted(lst)"
      ],
      "execution_count": null,
      "outputs": []
    },
    {
      "cell_type": "markdown",
      "metadata": {
        "id": "waLYIV1PQ3JN"
      },
      "source": [
        "## Lister af lister\n",
        "Lav en funktion som tager en liste af lister og laver det til en liste uden \"flere lag\".\n",
        "\n"
      ]
    },
    {
      "cell_type": "code",
      "metadata": {
        "id": "hSL7jaBORQOO",
        "colab": {
          "base_uri": "https://localhost:8080/"
        },
        "outputId": "83b0c703-885e-4812-d428-4d5add3dd417"
      },
      "source": [
        "listoflists = [[1,2,3,4],[5],[6,7]]\n",
        "\n",
        "# Noget der giver resultatet [1,2,3,4,5,6,7]\n",
        "\n",
        "def flatten(lst):\n",
        "    flat_list = []\n",
        "    for i in range(len(lst)):\n",
        "        for j in lst[i]:\n",
        "            flat_list.append(j)\n",
        "    return flat_list\n",
        "\n",
        "x = flatten(listoflists)\n",
        "\n",
        "print(x)"
      ],
      "execution_count": null,
      "outputs": [
        {
          "output_type": "stream",
          "text": [
            "[1, 2, 3, 4, 5, 6, 7]\n"
          ],
          "name": "stdout"
        }
      ]
    },
    {
      "cell_type": "markdown",
      "metadata": {
        "id": "jXyVXWYA4R7z"
      },
      "source": [
        "## Sten, saks, papir\n",
        "Lav et sten-saks-papir man kan spille mod computeren, hvor den vælger tilfældigt. Det kræver lidt ensformigt if-elif-else arbejde, men det er okay her."
      ]
    },
    {
      "cell_type": "code",
      "metadata": {
        "id": "et_M4Efk4cdK"
      },
      "source": [
        "import random\n",
        "\n",
        "# Sten saks papir\n",
        "\n",
        "def sten_saks_papir():\n",
        "    options = [\"Sten\", \"Saks\", \"Papir\"]\n",
        "    wins = [0, 0, 0]\n",
        "    rounds = 0\n",
        "    sten_saks_papir_play(options, wins, rounds)\n",
        "\n",
        "def sten_saks_papir_play(options, wins, rounds):\n",
        "    while (True):\n",
        "        player_choice = get_player_choice(options)\n",
        "        if player_choice == \"stop\":\n",
        "            print(\"\\nEnding game\\n\")\n",
        "            break\n",
        "        computer_choice = get_computer_choice(options)\n",
        "        winner = sten_saks_papir_winner(computer_choice, player_choice)\n",
        "        update_wins(wins, winner)\n",
        "        print_round(computer_choice, player_choice, wins, rounds, winner)\n",
        "        rounds = rounds + 1\n",
        "    print(\"====Final score====\")\n",
        "    print_stats(wins, rounds)\n",
        "\n",
        "def get_player_choice(options):\n",
        "    player_idx = int(input(\"Vælg én af følgende:\\n0) Stop spil\\n1) Sten\\n2) Saks\\n3) Papir\\n\")) - 1\n",
        "    if player_idx == -1:\n",
        "        return \"stop\"\n",
        "    return options[player_idx]\n",
        "\n",
        "def get_computer_choice(options):\n",
        "    computer_idx = random.randint(0,2)\n",
        "    return options[computer_idx]\n",
        "\n",
        "def print_round(computer_choice, player_choice, wins, rounds, winner):\n",
        "    print(\"===================\")\n",
        "    print_stats(wins, rounds)\n",
        "    print(\"------CHOICES------\")\n",
        "    print(\"Computer:\", computer_choice)\n",
        "    print(\"\\tvs\")\n",
        "    print(\"Player:\", player_choice)\n",
        "    print(\"-------------------\")\n",
        "    print(\"WINNER:\", winner)\n",
        "    print(\"===================\")\n",
        "    print(\"\\n\")\n",
        "\n",
        "def update_wins(wins, winner):\n",
        "    if winner == \"draw\":\n",
        "        wins[2] = wins[2] + 1\n",
        "    elif winner == \"pc\":\n",
        "        wins[0] = wins[0] + 1\n",
        "    else:\n",
        "        wins[1] = wins[1] + 1\n",
        "\n",
        "def print_stats(wins, rounds):\n",
        "    print(\"ROUND\", rounds + 1)\n",
        "    print(\"-------STATS-------\")\n",
        "    print(\"Computer:\", wins[0])\n",
        "    print(\"Player:\", wins[1])\n",
        "    print(\"Draws:\", wins[2])\n",
        "\n",
        "def sten_saks_papir_winner(choice_pc, choice_pl):\n",
        "    if choice_pc == choice_pl:\n",
        "        return \"draw\"\n",
        "    elif (choice_pc == \"Sten\") and (choice_pl == \"Saks\"):\n",
        "        return \"pc\"\n",
        "    elif (choice_pc == \"Saks\") and (choice_pl == \"Papir\"):\n",
        "        return \"pc\"\n",
        "    elif (choice_pc == \"Papir\") and (choice_pl == \"Sten\"):\n",
        "        return \"pc\"\n",
        "    else:\n",
        "        return \"pl\"\n",
        "\n",
        "sten_saks_papir()"
      ],
      "execution_count": null,
      "outputs": []
    },
    {
      "cell_type": "markdown",
      "metadata": {
        "id": "7TgU4QR27ZMk"
      },
      "source": [
        "Udvidelser\n",
        "\n",
        "*   Gør så du kan blive ved med at spille.\n",
        "*   Lav statistikker over hvor mange gange du har vundet/uafgjort/tabt og udskriv det efter hvert spil.\n",
        "*   Flere statistikker: \n",
        "  * Antal runder spillet\n",
        "  * Antal gange sten/saks/papir er blevet spillet\n",
        "  * Nuværende win-streak\n",
        "  * Længste win-streak\n",
        "\n"
      ]
    }
  ]
}