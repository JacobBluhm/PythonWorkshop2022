{
  "nbformat": 4,
  "nbformat_minor": 0,
  "metadata": {
    "colab": {
      "name": "Dag 2 Modul 2.ipynb",
      "provenance": [],
      "collapsed_sections": [],
      "toc_visible": true,
      "include_colab_link": true
    },
    "kernelspec": {
      "name": "python3",
      "display_name": "Python 3"
    }
  },
  "cells": [
    {
      "cell_type": "markdown",
      "metadata": {
        "id": "view-in-github",
        "colab_type": "text"
      },
      "source": [
        "<a href=\"https://colab.research.google.com/github/Moggel12/PythonWorkshop2021/blob/gh-pages/Dag_2_Modul_2.ipynb\" target=\"_parent\"><img src=\"https://colab.research.google.com/assets/colab-badge.svg\" alt=\"Open In Colab\"/></a>"
      ]
    },
    {
      "cell_type": "markdown",
      "metadata": {
        "id": "URco35MGQHB9"
      },
      "source": [
        "# Præsentations eksempler\n",
        "## Strings"
      ]
    },
    {
      "cell_type": "code",
      "metadata": {
        "id": "32O9TBjpQJ79",
        "colab": {
          "base_uri": "https://localhost:8080/",
          "height": 34
        },
        "outputId": "c8971549-32a7-4741-e12e-6ee7301d755d"
      },
      "source": [
        "# indeksering\n",
        "dna = \"ATTAGCC\"\n",
        "print(dna[1])"
      ],
      "execution_count": null,
      "outputs": [
        {
          "output_type": "stream",
          "text": [
            "T\n"
          ],
          "name": "stdout"
        }
      ]
    },
    {
      "cell_type": "code",
      "metadata": {
        "id": "sAw0xTQzQT5q"
      },
      "source": [
        "#slicing\n",
        "dna = \"ATTAGCC\"\n",
        "print(dna[2:5])"
      ],
      "execution_count": null,
      "outputs": []
    },
    {
      "cell_type": "code",
      "metadata": {
        "id": "GW2gmyKJWAfe"
      },
      "source": [
        "# længde\n",
        "dna = ”ATTAGCC”\n",
        "print(len(dna))"
      ],
      "execution_count": null,
      "outputs": []
    },
    {
      "cell_type": "code",
      "metadata": {
        "id": "eZzE2mnUQYL-"
      },
      "source": [
        "# genneløb af streng\n",
        "dna = ”ATTAGCC”\n",
        "for c in dna:\n",
        "\tprint(c)"
      ],
      "execution_count": null,
      "outputs": []
    },
    {
      "cell_type": "code",
      "metadata": {
        "id": "ojpdMqLpRrbb"
      },
      "source": [
        "# kan vi ændre en streng?\n",
        "dna[0] = \"G\"\n",
        "print(dna)"
      ],
      "execution_count": null,
      "outputs": []
    },
    {
      "cell_type": "code",
      "metadata": {
        "id": "2mvfRQUvRykD"
      },
      "source": [
        "# opret en ny streng i stedet\n",
        "newdna = \"G\" + dna[1:]\n",
        "print(newdna)"
      ],
      "execution_count": null,
      "outputs": []
    },
    {
      "cell_type": "code",
      "metadata": {
        "id": "7kBOSFjMSLrM"
      },
      "source": [
        "# tilføj til en streng\n",
        "newdna = dna + \"A\"\n",
        "print(newdna)"
      ],
      "execution_count": null,
      "outputs": []
    },
    {
      "cell_type": "code",
      "metadata": {
        "id": "ovf47ZJdSddR"
      },
      "source": [
        "# converter til lower case\n",
        "dna = \"ATTAGCC\"\n",
        "newdna = dna.lower()\n",
        "print(newdna)"
      ],
      "execution_count": null,
      "outputs": []
    },
    {
      "cell_type": "code",
      "metadata": {
        "id": "m5Nf5fv7SnhS"
      },
      "source": [
        "# søg i en streng\n",
        "dna =\"ATTAGCC\"\n",
        "print(dna.find(\"A\"))\n",
        "print(dna.find(\"B\"))\n",
        "\n",
        "print(dna.find(\"TAG\"))"
      ],
      "execution_count": null,
      "outputs": []
    },
    {
      "cell_type": "code",
      "metadata": {
        "id": "8wEs-ZRkS5h1"
      },
      "source": [
        "# forekomst i streng\n",
        "dna =\"ATTAGCC\"\n",
        "print(\"TAG\" in dna)\n",
        "print(\"CAT\" in dna)"
      ],
      "execution_count": null,
      "outputs": []
    },
    {
      "cell_type": "code",
      "metadata": {
        "id": "_bQNHGZuTayi"
      },
      "source": [
        "# split en streng\n",
        "s = \"Jeg gik mig over sø og land\"\n",
        "l = s.split(\" \")\n",
        "print(l)\n",
        "print(l[2])\n",
        "\n",
        "# sammensæt igen\n",
        "binde = \"-\".join(l)\n",
        "print(binde)\n",
        "\n",
        "# erstat\n",
        "s2 = s.replace(\" \", \"\")\t\t# Erstatter mellemrum med ingenting = fjerner mellemrum\n",
        "print(s2)"
      ],
      "execution_count": null,
      "outputs": []
    },
    {
      "cell_type": "code",
      "metadata": {
        "id": "fqpFz76IVY7z"
      },
      "source": [
        "def in_both(word1, word2):\n",
        "  for letter in word1:\n",
        "    if letter in word2:\n",
        "      print( letter )\n",
        "    \n",
        "    \n",
        "in_both(\"APPLE\", \"PEN\")"
      ],
      "execution_count": null,
      "outputs": []
    },
    {
      "cell_type": "markdown",
      "metadata": {
        "id": "FgwLcL2HzrWd"
      },
      "source": [
        "# String Øvelser\n"
      ]
    },
    {
      "cell_type": "markdown",
      "metadata": {
        "id": "BLZC7LIq0bC8"
      },
      "source": [
        "## Stavning\n",
        "Print `\"abe\"` ved at indeksere i `alfa`."
      ]
    },
    {
      "cell_type": "code",
      "metadata": {
        "id": "Ym8HhzEO0mkI"
      },
      "source": [
        "alfa = \"abcdefghijklmnopqrstuvwxyzæøå\""
      ],
      "execution_count": null,
      "outputs": []
    },
    {
      "cell_type": "markdown",
      "metadata": {
        "id": "9XCp6XCG1FkT"
      },
      "source": [
        "Print `\"devil\"` ved at slice det fra `langtord`"
      ]
    },
    {
      "cell_type": "code",
      "metadata": {
        "id": "rIVsIyjR1taY"
      },
      "source": [
        "langtord = \"såsagdeviligeatdettevaretrigtigtord\""
      ],
      "execution_count": null,
      "outputs": []
    },
    {
      "cell_type": "markdown",
      "metadata": {
        "id": "RF4wC4AR2onz"
      },
      "source": [
        "Find indekset for første bogstav i `\"vare\"` i `langtord`"
      ]
    },
    {
      "cell_type": "markdown",
      "metadata": {
        "id": "VaSKffQ33Z3O"
      },
      "source": [
        "## Din hemmelige klub\n",
        "Lav en funktion der tager en streng/et navn og printer en besked, hvis navnet har samme forbogstav som dig."
      ]
    },
    {
      "cell_type": "code",
      "metadata": {
        "id": "hLuFkUYo39nP"
      },
      "source": [
        "# Hemmelig klub"
      ],
      "execution_count": null,
      "outputs": []
    },
    {
      "cell_type": "markdown",
      "metadata": {
        "id": "tset_x3O4CTK"
      },
      "source": [
        "## Forskel\n",
        "Lav en funktion der tager to ord, og returnerer på hvilket indeks de to ord først er forskellige.\n",
        "\n",
        "Eksempel: hvis de to ord er \"kattedronning\" og \"kategori\" skal programmet svare 3 da det er indekset for det fjerde bogstav, hvor de to ord første gang er forskellige."
      ]
    },
    {
      "cell_type": "code",
      "metadata": {
        "id": "a610Im9k4PX7"
      },
      "source": [
        "# Forskel"
      ],
      "execution_count": null,
      "outputs": []
    },
    {
      "cell_type": "markdown",
      "metadata": {
        "id": "eMJARQuZ4Rp_"
      },
      "source": [
        "**Hint**: brug et enkelt loop der for hvert indeks tjekker om de tilsvarende tegn i de to ord er ens."
      ]
    },
    {
      "cell_type": "markdown",
      "metadata": {
        "id": "NJDAqzbX4wBB"
      },
      "source": [
        "## Antal ord\n",
        "Lav et program der beder brugeren indtaste en tekst, og derefter printer hvor mange ord der var i teksten."
      ]
    },
    {
      "cell_type": "code",
      "metadata": {
        "id": "zvnoR6Kh5ewX"
      },
      "source": [
        "# Antal ord"
      ],
      "execution_count": null,
      "outputs": []
    },
    {
      "cell_type": "markdown",
      "metadata": {
        "id": "c8GKBb_15iZE"
      },
      "source": [
        "Hint: brug `.split(_)` funktionen og del på mellemrum."
      ]
    },
    {
      "cell_type": "markdown",
      "metadata": {
        "id": "kiydd-hw7M6u"
      },
      "source": [
        "## Bagvendt\n",
        "Lav en funktion der tager to ord, og svarer på om det ene ord er det andet ord stavet bagfra."
      ]
    },
    {
      "cell_type": "code",
      "metadata": {
        "id": "abEtRLkl7o9S"
      },
      "source": [
        "# Lav funktionen der tjekker om de er bagvendt"
      ],
      "execution_count": null,
      "outputs": []
    },
    {
      "cell_type": "markdown",
      "metadata": {
        "id": "fH5v8-dS8Ka6"
      },
      "source": [
        "**Hint**: når man indekserer i Python er -1 det bagerste element, hvilket kan bruges når man slicer. Desuden kan man også vælge \"skridtlængde\" når man slicer, efter et ekstra \":\", så `streng[1:8:2]` angiver slicen fra index 1 til 8 i hop af 2 og `streng[-1: :-1]` er slicen fra sidste element og baglæns igennem. \n",
        "\n",
        "Der er også andre måder at løse opgaven på."
      ]
    },
    {
      "cell_type": "markdown",
      "metadata": {
        "id": "PQ7IkD_Y9x5i"
      },
      "source": [
        "## Palindrom\n",
        "Lav en funktion der tjekker om et ord eller en sætning er et palindrom (staves ens forfra og bagfra). Det kan være en god idé at fjerne mellemrum, tegnsætning, osv., samt vælge at gøre hele teksten til enten store eller små bogstaver.\n",
        "\n",
        "Eksempler på palindromer: \"tit\", \"Anna\", \"tacocat\", \"løg og øl\", \"skal Eva have laks?\". Du kan finde flere på nettet."
      ]
    },
    {
      "cell_type": "code",
      "metadata": {
        "id": "C6yCsCix_cMa"
      },
      "source": [
        "# Palindrom"
      ],
      "execution_count": null,
      "outputs": []
    },
    {
      "cell_type": "markdown",
      "metadata": {
        "id": "AMha2wYB_hmT"
      },
      "source": [
        "Hint: hvis du har lavet den forrige opgave \"Bagvendt\", kan du måske genbruge funktionen her."
      ]
    }
  ]
}